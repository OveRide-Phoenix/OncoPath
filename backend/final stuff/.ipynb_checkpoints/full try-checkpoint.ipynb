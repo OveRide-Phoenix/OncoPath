{
 "cells": [
  {
   "cell_type": "code",
   "execution_count": null,
   "id": "143e62c5-663a-435a-94dd-9581dc4721a9",
   "metadata": {},
   "outputs": [],
   "source": [
    "pip install monai[all] nibabel pydicom scikit-learn\n"
   ]
  },
  {
   "cell_type": "code",
   "execution_count": 15,
   "id": "96732f87-2b3d-41fb-93cc-9081732389ae",
   "metadata": {},
   "outputs": [
    {
     "ename": "ImportError",
     "evalue": "cannot import name 'get_preprocessing' from 'segmentation_models.backbones' (C:\\Users\\shash\\AppData\\Local\\Programs\\Python\\Python312\\Lib\\site-packages\\segmentation_models\\backbones\\__init__.py)",
     "output_type": "error",
     "traceback": [
      "\u001b[1;31m---------------------------------------------------------------------------\u001b[0m",
      "\u001b[1;31mImportError\u001b[0m                               Traceback (most recent call last)",
      "Cell \u001b[1;32mIn[15], line 1\u001b[0m\n\u001b[1;32m----> 1\u001b[0m \u001b[38;5;28;01mfrom\u001b[39;00m \u001b[38;5;21;01msegmentation_models\u001b[39;00m\u001b[38;5;21;01m.\u001b[39;00m\u001b[38;5;21;01mbackbones\u001b[39;00m \u001b[38;5;28;01mimport\u001b[39;00m get_preprocessing\n\u001b[0;32m      2\u001b[0m preprocess_input \u001b[38;5;241m=\u001b[39m get_preprocessing(\u001b[38;5;124m'\u001b[39m\u001b[38;5;124mefficientnetb0\u001b[39m\u001b[38;5;124m'\u001b[39m)\n\u001b[0;32m      3\u001b[0m \u001b[38;5;28;01mfrom\u001b[39;00m \u001b[38;5;21;01mtensorflow\u001b[39;00m\u001b[38;5;21;01m.\u001b[39;00m\u001b[38;5;21;01mkeras\u001b[39;00m\u001b[38;5;21;01m.\u001b[39;00m\u001b[38;5;21;01mapplications\u001b[39;00m \u001b[38;5;28;01mimport\u001b[39;00m EfficientNetB0\n",
      "\u001b[1;31mImportError\u001b[0m: cannot import name 'get_preprocessing' from 'segmentation_models.backbones' (C:\\Users\\shash\\AppData\\Local\\Programs\\Python\\Python312\\Lib\\site-packages\\segmentation_models\\backbones\\__init__.py)"
     ]
    }
   ],
   "source": []
  },
  {
   "cell_type": "code",
   "execution_count": 16,
   "id": "75da7842-9c59-42ad-8547-d891236d052d",
   "metadata": {},
   "outputs": [
    {
     "ename": "ImportError",
     "evalue": "cannot import name 'get_preprocessing' from 'segmentation_models.backbones' (C:\\Users\\shash\\AppData\\Local\\Programs\\Python\\Python312\\Lib\\site-packages\\segmentation_models\\backbones\\__init__.py)",
     "output_type": "error",
     "traceback": [
      "\u001b[1;31m---------------------------------------------------------------------------\u001b[0m",
      "\u001b[1;31mImportError\u001b[0m                               Traceback (most recent call last)",
      "Cell \u001b[1;32mIn[16], line 10\u001b[0m\n\u001b[0;32m      8\u001b[0m \u001b[38;5;28;01mfrom\u001b[39;00m \u001b[38;5;21;01mtensorflow\u001b[39;00m\u001b[38;5;21;01m.\u001b[39;00m\u001b[38;5;21;01mkeras\u001b[39;00m\u001b[38;5;21;01m.\u001b[39;00m\u001b[38;5;21;01mmodels\u001b[39;00m \u001b[38;5;28;01mimport\u001b[39;00m load_model\n\u001b[0;32m      9\u001b[0m \u001b[38;5;28;01mfrom\u001b[39;00m \u001b[38;5;21;01msegmentation_models\u001b[39;00m \u001b[38;5;28;01mimport\u001b[39;00m Unet\n\u001b[1;32m---> 10\u001b[0m \u001b[38;5;28;01mfrom\u001b[39;00m \u001b[38;5;21;01msegmentation_models\u001b[39;00m\u001b[38;5;21;01m.\u001b[39;00m\u001b[38;5;21;01mbackbones\u001b[39;00m \u001b[38;5;28;01mimport\u001b[39;00m get_preprocessing\n\u001b[0;32m     11\u001b[0m \u001b[38;5;28;01mfrom\u001b[39;00m \u001b[38;5;21;01mskimage\u001b[39;00m\u001b[38;5;21;01m.\u001b[39;00m\u001b[38;5;21;01mmeasure\u001b[39;00m \u001b[38;5;28;01mimport\u001b[39;00m regionprops, label\n\u001b[0;32m     12\u001b[0m \u001b[38;5;28;01mimport\u001b[39;00m \u001b[38;5;21;01mmatplotlib\u001b[39;00m\u001b[38;5;21;01m.\u001b[39;00m\u001b[38;5;21;01mpyplot\u001b[39;00m \u001b[38;5;28;01mas\u001b[39;00m \u001b[38;5;21;01mplt\u001b[39;00m\n",
      "\u001b[1;31mImportError\u001b[0m: cannot import name 'get_preprocessing' from 'segmentation_models.backbones' (C:\\Users\\shash\\AppData\\Local\\Programs\\Python\\Python312\\Lib\\site-packages\\segmentation_models\\backbones\\__init__.py)"
     ]
    }
   ],
   "source": [
    "import os\n",
    "import numpy as np\n",
    "import pandas as pd\n",
    "from tqdm.auto import tqdm\n",
    "from sklearn.model_selection import train_test_split\n",
    "from sklearn.metrics import classification_report, confusion_matrix\n",
    "import matplotlib.pyplot as plt\n",
    "from monai.transforms import (\n",
    "    LoadImage, AddChannel, ScaleIntensity, EnsureType, Compose, Resize\n",
    ")\n",
    "from monai.networks.nets import UNet\n",
    "from monai.data import Dataset, DataLoader\n",
    "from monai.losses import DiceLoss\n",
    "from monai.metrics import DiceMetric\n",
    "from monai.inferers import sliding_window_inference\n",
    "import torch\n"
   ]
  },
  {
   "cell_type": "code",
   "execution_count": null,
   "id": "dd37d6c4-f590-464e-8a13-98a4eabdad23",
   "metadata": {},
   "outputs": [],
   "source": [
    "# Define paths\n",
    "metadata_file_path = r\"D:\\PROJECTS_FINAL\\Cancer Treatment Prediction\\final stuff\\manifest-1732777365016\\metadata.csv\"\n",
    "base_dir = r\"D:\\PROJECTS_FINAL\\Cancer Treatment Prediction\\final stuff\\manifest-1732777365016\"\n",
    "processed_images_dir = os.path.join(base_dir, \"breast_cancer_images_png_tr1\")\n",
    "\n",
    "# Ensure output directory exists\n",
    "os.makedirs(processed_images_dir, exist_ok=True)\n",
    "\n",
    "# Load metadata\n",
    "metadata = pd.read_csv(metadata_file_path)\n",
    "metadata['Absolute Path'] = metadata['File Location'].apply(lambda x: os.path.join(base_dir, x.lstrip(\".\\\\\")))\n",
    "\n",
    "# Process each folder in the metadata\n",
    "images = []\n",
    "IMG_SIZE = (2048, 2048)  # High resolution\n",
    "\n",
    "for folder_path in tqdm(metadata['Absolute Path'], desc=\"Processing DICOM folders\"):\n",
    "    if not os.path.exists(folder_path):\n",
    "        print(f\"Folder not found: {folder_path}, skipping.\")\n",
    "        continue\n",
    "\n",
    "    for file_name in os.listdir(folder_path):\n",
    "        file_path = os.path.join(folder_path, file_name)\n",
    "\n",
    "        if not file_name.endswith(\".dcm\"):\n",
    "            continue\n",
    "\n",
    "        try:\n",
    "            dicom = dcmread(file_path)\n",
    "            if 'PixelData' not in dicom:\n",
    "                print(f\"No PixelData in {file_path}, skipping.\")\n",
    "                continue\n",
    "\n",
    "            pixel_array = dicom.pixel_array\n",
    "            img = Image.fromarray(pixel_array).convert('L')  # Grayscale conversion\n",
    "            img.save(os.path.join(processed_images_dir, f\"{os.path.basename(folder_path)}_{file_name.replace('.dcm', '.png')}\"))\n",
    "            images.append(np.array(img))  # Store the original resolution image\n",
    "        except Exception as e:\n",
    "            print(f\"Error processing file {file_path}: {e}\")\n",
    "\n",
    "# Convert to numpy array\n",
    "images = np.array(images)\n",
    "print(f\"Processed {len(images)} images.\")\n"
   ]
  }
 ],
 "metadata": {
  "kernelspec": {
   "display_name": "Python 3 (ipykernel)",
   "language": "python",
   "name": "python3"
  },
  "language_info": {
   "codemirror_mode": {
    "name": "ipython",
    "version": 3
   },
   "file_extension": ".py",
   "mimetype": "text/x-python",
   "name": "python",
   "nbconvert_exporter": "python",
   "pygments_lexer": "ipython3",
   "version": "3.12.2"
  }
 },
 "nbformat": 4,
 "nbformat_minor": 5
}
