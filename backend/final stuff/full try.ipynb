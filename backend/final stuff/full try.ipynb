{
 "cells": [
  {
   "cell_type": "code",
   "execution_count": null,
   "id": "143e62c5-663a-435a-94dd-9581dc4721a9",
   "metadata": {},
   "outputs": [],
   "source": [
    "pip install monai[all] nibabel pydicom scikit-learn\n"
   ]
  },
  {
   "cell_type": "code",
   "execution_count": null,
   "id": "75da7842-9c59-42ad-8547-d891236d052d",
   "metadata": {},
   "outputs": [],
   "source": [
    "import os\n",
    "import numpy as np\n",
    "import pandas as pd\n",
    "from tqdm.auto import tqdm\n",
    "from sklearn.model_selection import train_test_split\n",
    "from sklearn.metrics import classification_report, confusion_matrix\n",
    "import matplotlib.pyplot as plt\n",
    "from monai.transforms import (\n",
    "    LoadImage, AddChannel, ScaleIntensity, EnsureType, Compose, Resize\n",
    ")\n",
    "from monai.networks.nets import UNet\n",
    "from monai.data import Dataset, DataLoader\n",
    "from monai.losses import DiceLoss\n",
    "from monai.metrics import DiceMetric\n",
    "from monai.inferers import sliding_window_inference\n",
    "import torch.compile\n"
   ]
  },
  {
   "cell_type": "code",
   "execution_count": 4,
   "id": "dd37d6c4-f590-464e-8a13-98a4eabdad23",
   "metadata": {},
   "outputs": [],
   "source": [
    "# Paths\n",
    "metadata_file_path = r\"D:\\PROJECTS_FINAL\\Cancer Treatment Prediction\\final stuff\\manifest-1732777365016\\metadata.csv\"\n",
    "base_dir = r\"D:\\PROJECTS_FINAL\\Cancer Treatment Prediction\\final stuff\\manifest-1732777365016\"\n",
    "\n",
    "# Load metadata\n",
    "metadata = pd.read_csv(metadata_file_path)\n",
    "metadata['Absolute Path'] = metadata['File Location'].apply(lambda x: os.path.join(base_dir, x.lstrip(\".\\\\\")))\n",
    "\n",
    "# Ensure data directory exists\n",
    "processed_images_dir = os.path.join(base_dir, \"processed_images\")\n",
    "os.makedirs(processed_images_dir, exist_ok=True)\n"
   ]
  },
  {
   "cell_type": "code",
   "execution_count": 5,
   "id": "f78f47cb-ff1c-496b-b1dd-6ff222c36731",
   "metadata": {},
   "outputs": [
    {
     "data": {
      "application/vnd.jupyter.widget-view+json": {
       "model_id": "be3e37ef45a74ec7b7b8b3d98a94bb57",
       "version_major": 2,
       "version_minor": 0
      },
      "text/plain": [
       "Processing DICOM Folders:   0%|          | 0/20 [00:00<?, ?it/s]"
      ]
     },
     "metadata": {},
     "output_type": "display_data"
    }
   ],
   "source": [
    "from pydicom import dcmread\n",
    "from PIL import Image\n",
    "\n",
    "IMG_SIZE = (512, 512)\n",
    "images, masks = [], []\n",
    "\n",
    "for folder_path in tqdm(metadata['Absolute Path'], desc=\"Processing DICOM Folders\"):\n",
    "    if not os.path.exists(folder_path):\n",
    "        print(f\"Folder not found: {folder_path}, skipping.\")\n",
    "        continue\n",
    "\n",
    "    for file_name in os.listdir(folder_path):\n",
    "        file_path = os.path.join(folder_path, file_name)\n",
    "        if not file_name.endswith(\".dcm\"):\n",
    "            continue\n",
    "\n",
    "        try:\n",
    "            dicom = dcmread(file_path)\n",
    "            if 'PixelData' not in dicom:\n",
    "                print(f\"No PixelData in {file_path}, skipping.\")\n",
    "                continue\n",
    "\n",
    "            pixel_array = dicom.pixel_array\n",
    "            img = Image.fromarray(pixel_array)\n",
    "            img = img.resize(IMG_SIZE)\n",
    "            img = np.array(img) / 255.0  # Normalize\n",
    "\n",
    "            # Placeholder for segmentation mask (Use actual mask if available)\n",
    "            mask = np.zeros_like(img)  \n",
    "            \n",
    "            images.append(img)\n",
    "            masks.append(mask)\n",
    "\n",
    "        except Exception as e:\n",
    "            print(f\"Error processing file {file_path}: {e}\")\n",
    "\n",
    "# Convert to NumPy arrays\n",
    "images = np.array(images)[..., None]  # Add channel dimension\n",
    "masks = np.array(masks)[..., None]\n"
   ]
  },
  {
   "cell_type": "code",
   "execution_count": 1,
   "id": "e0a665f1-712a-4d97-a1ee-3b871337f6e1",
   "metadata": {},
   "outputs": [
    {
     "ename": "NameError",
     "evalue": "name 'train_test_split' is not defined",
     "output_type": "error",
     "traceback": [
      "\u001b[1;31m---------------------------------------------------------------------------\u001b[0m",
      "\u001b[1;31mNameError\u001b[0m                                 Traceback (most recent call last)",
      "Cell \u001b[1;32mIn[1], line 1\u001b[0m\n\u001b[1;32m----> 1\u001b[0m X_train, X_test, y_train, y_test \u001b[38;5;241m=\u001b[39m \u001b[43mtrain_test_split\u001b[49m(images, masks, test_size\u001b[38;5;241m=\u001b[39m\u001b[38;5;241m0.2\u001b[39m, random_state\u001b[38;5;241m=\u001b[39m\u001b[38;5;241m42\u001b[39m)\n\u001b[0;32m      3\u001b[0m \u001b[38;5;66;03m# MONAI Dataset and DataLoader\u001b[39;00m\n\u001b[0;32m      4\u001b[0m train_data \u001b[38;5;241m=\u001b[39m [{\u001b[38;5;124m\"\u001b[39m\u001b[38;5;124mimage\u001b[39m\u001b[38;5;124m\"\u001b[39m: img, \u001b[38;5;124m\"\u001b[39m\u001b[38;5;124mlabel\u001b[39m\u001b[38;5;124m\"\u001b[39m: mask} \u001b[38;5;28;01mfor\u001b[39;00m img, mask \u001b[38;5;129;01min\u001b[39;00m \u001b[38;5;28mzip\u001b[39m(X_train, y_train)]\n",
      "\u001b[1;31mNameError\u001b[0m: name 'train_test_split' is not defined"
     ]
    }
   ],
   "source": [
    "X_train, X_test, y_train, y_test = train_test_split(images, masks, test_size=0.2, random_state=42)\n",
    "\n",
    "# MONAI Dataset and DataLoader\n",
    "train_data = [{\"image\": img, \"label\": mask} for img, mask in zip(X_train, y_train)]\n",
    "test_data = [{\"image\": img, \"label\": mask} for img, mask in zip(X_test, y_test)]\n",
    "\n",
    "train_transforms = Compose([\n",
    "    LoadImage(image_only=True),\n",
    "    AddChannel(),\n",
    "    ScaleIntensity(),\n",
    "    Resize((512, 512)),\n",
    "    EnsureType()\n",
    "])\n",
    "\n",
    "test_transforms = Compose([\n",
    "    AddChannel(),\n",
    "    ScaleIntensity(),\n",
    "    Resize((512, 512)),\n",
    "    EnsureType()\n",
    "])\n",
    "\n",
    "train_dataset = Dataset(data=train_data, transform=train_transforms)\n",
    "test_dataset = Dataset(data=test_data, transform=test_transforms)\n",
    "\n",
    "train_loader = DataLoader(train_dataset, batch_size=4, shuffle=True)\n",
    "test_loader = DataLoader(test_dataset, batch_size=4)\n"
   ]
  },
  {
   "cell_type": "code",
   "execution_count": null,
   "id": "17fe4d1d-8b21-4c0f-b074-c6cbc66a3682",
   "metadata": {},
   "outputs": [],
   "source": [
    "device = torch.device(\"cuda\" if torch.cuda.is_available() else \"cpu\")\n",
    "\n",
    "model = UNet(\n",
    "    spatial_dims=2,\n",
    "    in_channels=1,\n",
    "    out_channels=1,\n",
    "    channels=(16, 32, 64, 128, 256),\n",
    "    strides=(2, 2, 2, 2),\n",
    "    num_res_units=2,\n",
    ").to(device)\n",
    "\n",
    "loss_function = DiceLoss(sigmoid=True)\n",
    "optimizer = torch.optim.Adam(model.parameters(), lr=1e-4)\n"
   ]
  },
  {
   "cell_type": "code",
   "execution_count": null,
   "id": "65017ff5-e844-44a8-949b-976278dd7ef3",
   "metadata": {},
   "outputs": [],
   "source": [
    "num_epochs = 20\n",
    "val_interval = 2\n",
    "dice_metric = DiceMetric(include_background=False, reduction=\"mean\")\n",
    "\n",
    "for epoch in range(num_epochs):\n",
    "    print(f\"Epoch {epoch + 1}/{num_epochs}\")\n",
    "    model.train()\n",
    "    epoch_loss = 0\n",
    "\n",
    "    for batch_data in train_loader:\n",
    "        inputs, labels = batch_data[\"image\"].to(device), batch_data[\"label\"].to(device)\n",
    "        optimizer.zero_grad()\n",
    "        outputs = model(inputs)\n",
    "        loss = loss_function(outputs, labels)\n",
    "        loss.backward()\n",
    "        optimizer.step()\n",
    "        epoch_loss += loss.item()\n",
    "\n",
    "    print(f\"Epoch {epoch + 1} average loss: {epoch_loss / len(train_loader)}\")\n",
    "\n",
    "    # Validation\n",
    "    if (epoch + 1) % val_interval == 0:\n",
    "        model.eval()\n",
    "        with torch.no_grad():\n",
    "            dice_scores = []\n",
    "            for val_data in test_loader:\n",
    "                val_inputs, val_labels = val_data[\"image\"].to(device), val_data[\"label\"].to(device)\n",
    "                val_outputs = sliding_window_inference(val_inputs, (128, 128), 4, model)\n",
    "                dice_score = dice_metric(val_outputs, val_labels)\n",
    "                dice_scores.append(dice_score.item())\n",
    "            print(f\"Validation Dice Score: {np.mean(dice_scores)}\")\n"
   ]
  },
  {
   "cell_type": "code",
   "execution_count": null,
   "id": "9c241932-ecbf-4f17-813d-c972d36e0f9c",
   "metadata": {},
   "outputs": [],
   "source": [
    "model.eval()\n",
    "for idx, test_sample in enumerate(test_loader):\n",
    "    test_image = test_sample[\"image\"].to(device)\n",
    "    test_output = sliding_window_inference(test_image, (128, 128), 4, model)\n",
    "    test_output = test_output.detach().cpu().numpy()\n",
    "\n",
    "    # Display\n",
    "    plt.figure(figsize=(12, 4))\n",
    "    plt.subplot(1, 3, 1)\n",
    "    plt.title(\"Original Image\")\n",
    "    plt.imshow(test_image[0, 0].cpu(), cmap=\"gray\")\n",
    "\n",
    "    plt.subplot(1, 3, 2)\n",
    "    plt.title(\"Ground Truth\")\n",
    "    plt.imshow(test_sample[\"label\"][0, 0].cpu(), cmap=\"gray\")\n",
    "\n",
    "    plt.subplot(1, 3, 3)\n",
    "    plt.title(\"Predicted Segmentation\")\n",
    "    plt.imshow(test_output[0, 0], cmap=\"gray\")\n",
    "    plt.show()\n"
   ]
  },
  {
   "cell_type": "code",
   "execution_count": null,
   "id": "57319a15-ee8b-4864-9cb6-d233e7b9e346",
   "metadata": {},
   "outputs": [],
   "source": [
    "torch.save(model.state_dict(), \"tumor_segmentation_unet.pth\")\n"
   ]
  }
 ],
 "metadata": {
  "kernelspec": {
   "display_name": "Python 3 (ipykernel)",
   "language": "python",
   "name": "python3"
  },
  "language_info": {
   "codemirror_mode": {
    "name": "ipython",
    "version": 3
   },
   "file_extension": ".py",
   "mimetype": "text/x-python",
   "name": "python",
   "nbconvert_exporter": "python",
   "pygments_lexer": "ipython3",
   "version": "3.12.2"
  }
 },
 "nbformat": 4,
 "nbformat_minor": 5
}
